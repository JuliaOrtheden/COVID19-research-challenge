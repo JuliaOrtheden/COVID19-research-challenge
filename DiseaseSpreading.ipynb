{
  "nbformat": 4,
  "nbformat_minor": 0,
  "metadata": {
    "colab": {
      "name": "DiseaseSpreading.ipynb",
      "provenance": [],
      "collapsed_sections": [],
      "include_colab_link": true
    },
    "kernelspec": {
      "name": "python3",
      "display_name": "Python 3"
    }
  },
  "cells": [
    {
      "cell_type": "markdown",
      "metadata": {
        "id": "view-in-github",
        "colab_type": "text"
      },
      "source": [
        "<a href=\"https://colab.research.google.com/github/JuliaOrtheden/COVID19-research-challenge/blob/master/DiseaseSpreading.ipynb\" target=\"_parent\"><img src=\"https://colab.research.google.com/assets/colab-badge.svg\" alt=\"Open In Colab\"/></a>"
      ]
    },
    {
      "cell_type": "code",
      "metadata": {
        "id": "74C3fs_ZK06D"
      },
      "source": [
        "import matplotlib.pyplot as plt\n",
        "%matplotlib inline \n",
        "from enum import Enum\n",
        "import random\n",
        "import numpy\n",
        "from matplotlib import colors\n"
      ],
      "execution_count": null,
      "outputs": []
    },
    {
      "cell_type": "code",
      "metadata": {
        "id": "5rl3WvEOPVQ6"
      },
      "source": [
        "class Grid:\n",
        "  def __init__ (self, x, y):\n",
        "    self.y = y\n",
        "    self.x = x\n",
        "    self.grid = [[[] for j in range(y)] for i in range(x)]\n",
        "\n",
        "  def update_position(self, agent, toX, toY):\n",
        "    self.grid[agent.current_x][agent.current_y].remove(agent)\n",
        "    self.grid[toX][toY].append(agent)\n",
        "\n",
        "  def __getitem__(self, index):\n",
        "    return self.grid[index]\n",
        "\n",
        "  def __str__(self):\n",
        "    return str(self.grid)\n",
        "\n"
      ],
      "execution_count": null,
      "outputs": []
    },
    {
      "cell_type": "code",
      "metadata": {
        "id": "_YuI2ZNsVzDC"
      },
      "source": [
        "class Agent:\n",
        "  def __init__ (self, current_state, current_y, current_x, move_prob, grid):\n",
        "    self.current_state = current_state\n",
        "    self.current_y = current_y\n",
        "    self.current_x = current_x\n",
        "    self.move_prob = move_prob\n",
        "    self.grid = grid\n",
        "    self.grid[self.current_x][self.current_y].append(self)\n",
        "\n",
        "\n",
        "  def is_valid_position(self,x,y):\n",
        "    return x > -1 and x < self.grid.x and y > -1 and y < self.grid.y\n",
        "\n",
        "  def move(self):\n",
        "    r = random.random()\n",
        "    if r < self.move_prob:\n",
        "      move_int = random.randint(1,4)\n",
        "      \n",
        "      if move_int == 1:\n",
        "        self.move_left()\n",
        "        print(\"move left\")\n",
        "        print(str(self.current_x))\n",
        "        print(str(self.current_y))\n",
        "      if move_int == 2:\n",
        "        self.move_right()\n",
        "        print(\"move right\")\n",
        "        print(str(self.current_x))\n",
        "        print(str(self.current_y))\n",
        "      if move_int == 3:\n",
        "        self.move_down()\n",
        "        print(\"move down\")\n",
        "        print(str(self.current_x))\n",
        "        print(str(self.current_y))\n",
        "      if move_int == 4:\n",
        "        self.move_up()\n",
        "        print(\"move up\")\n",
        "        print(str(self.current_x))\n",
        "        print(str(self.current_y))\n",
        "\n",
        "  def move_left(self):\n",
        "    grid = self.grid\n",
        "    toX = self.current_x \n",
        "    toY = self.current_y - 1\n",
        "    if self.is_valid_position(toX,toY): \n",
        "      grid.update_position(self, toX, toY)\n",
        "      self.current_x = toX\n",
        "      self.current_y = toY\n",
        "    else:\n",
        "      print(\"This is not a possible move\")\n",
        "\n",
        "  def move_right(self):\n",
        "    grid = self.grid\n",
        "    toX = self.current_x \n",
        "    toY = self.current_y + 1  \n",
        "    if self.is_valid_position(toX,toY):\n",
        "      grid.update_position(self, toX, toY)\n",
        "      self.current_x = toX\n",
        "      self.current_y = toY\n",
        "    else:\n",
        "      print(\"This is not a possible move\")\n",
        "\n",
        "  def move_up(self):\n",
        "    grid = self.grid\n",
        "    toX = self.current_x - 1\n",
        "    toY = self.current_y  \n",
        "    if self.is_valid_position(toX,toY):\n",
        "      grid.update_position(self, toX, toY)\n",
        "      self.current_x = toX\n",
        "      self.current_y = toY\n",
        "    else:\n",
        "      print(\"This is not a possible move\")\n",
        "\n",
        "  def move_down(self):\n",
        "    grid = self.grid\n",
        "    toX = self.current_x + 1\n",
        "    toY = self.current_y\n",
        "    if self.is_valid_position(toX,toY):\n",
        "      grid.update_position(self, toX, toY)\n",
        "      self.current_x = toX\n",
        "      self.current_y = toY\n",
        "    else:\n",
        "      print(\"This is not a possible move\")\n",
        "\n",
        "  def __str__(self):\n",
        "    return str(self.current_state)\n",
        "    "
      ],
      "execution_count": null,
      "outputs": []
    },
    {
      "cell_type": "code",
      "metadata": {
        "id": "_Nq3Yaq_cl-e"
      },
      "source": [
        "class state(Enum):\n",
        "  susceptible = \"s\"\n",
        "  infected = \"i\"\n",
        "  recovered = \"r\" \n",
        "\n",
        "  def __str__(self):\n",
        "    return str(self.value)\n"
      ],
      "execution_count": null,
      "outputs": []
    },
    {
      "cell_type": "code",
      "metadata": {
        "id": "t0gnJBTtb03Z",
        "outputId": "13024fd6-f9ce-4a09-d865-6aef40410237",
        "colab": {
          "base_uri": "https://localhost:8080/"
        }
      },
      "source": [
        "grid1 = Grid(5,5)\n",
        "\n",
        "agent1 = Agent(state.infected, 0, 0, 1, grid1)\n",
        "print(str(agent1.grid))\n",
        "agent1.move_right()\n",
        "print(str(agent1.grid))\n",
        "agent1.is_valid_position(99,0)\n",
        "agent1.move_up()\n",
        "print(str(agent1.grid))\n",
        "agent1.move()\n",
        "print(str(agent1.grid))\n",
        "\n",
        "print(str(agent1))\n",
        "\n",
        "\n"
      ],
      "execution_count": null,
      "outputs": [
        {
          "output_type": "stream",
          "text": [
            "[[[<__main__.Agent object at 0x7fe4db40b908>], [], [], [], []], [[], [], [], [], []], [[], [], [], [], []], [[], [], [], [], []], [[], [], [], [], []]]\n",
            "[[[], [<__main__.Agent object at 0x7fe4db40b908>], [], [], []], [[], [], [], [], []], [[], [], [], [], []], [[], [], [], [], []], [[], [], [], [], []]]\n",
            "[[[], [], [], [], []], [[], [<__main__.Agent object at 0x7fe4db40b908>], [], [], []], [[], [], [], [], []], [[], [], [], [], []], [[], [], [], [], []]]\n",
            "move down\n",
            "0\n",
            "1\n",
            "[[[], [<__main__.Agent object at 0x7fe4db40b908>], [], [], []], [[], [], [], [], []], [[], [], [], [], []], [[], [], [], [], []], [[], [], [], [], []]]\n",
            "i\n"
          ],
          "name": "stdout"
        }
      ]
    },
    {
      "cell_type": "code",
      "metadata": {
        "id": "YXJFoUAQGv_v",
        "outputId": "5f90d555-6e03-43d0-d89d-bc68246c2ecc",
        "colab": {
          "base_uri": "https://localhost:8080/",
          "height": 902
        }
      },
      "source": [
        "grid1 = Grid(5,5)\n",
        "\n",
        "agent1 = Agent(state.infected, 0, 0, 1, grid1)\n",
        "\n",
        "fig = plt.figure(figsize=(5, 5))\n",
        "plt.scatter(0,0)\n",
        "for x in range(0, 10):\n",
        "  agent1.move()\n",
        "\n",
        "  \n",
        "  axes = plt.gca()\n",
        "  axes.set_xlim([-1,5])\n",
        "  axes.set_ylim([-1,5])\n",
        "  plt.scatter(agent1.current_x, agent1.current_y)\n",
        "  \n",
        "  \n",
        "plt.grid()\n",
        "plt.show()\n",
        "\n"
      ],
      "execution_count": null,
      "outputs": [
        {
          "output_type": "stream",
          "text": [
            "This is not a possible move\n",
            "move left\n",
            "0\n",
            "0\n",
            "This is not a possible move\n",
            "move up\n",
            "0\n",
            "0\n",
            "move right\n",
            "0\n",
            "1\n",
            "This is not a possible move\n",
            "move up\n",
            "0\n",
            "1\n",
            "move right\n",
            "0\n",
            "2\n",
            "This is not a possible move\n",
            "move up\n",
            "0\n",
            "2\n",
            "move down\n",
            "1\n",
            "2\n",
            "move left\n",
            "1\n",
            "1\n",
            "move left\n",
            "1\n",
            "0\n",
            "move down\n",
            "2\n",
            "0\n"
          ],
          "name": "stdout"
        },
        {
          "output_type": "display_data",
          "data": {
            "image/png": "[encoded data removed]",
            "text/plain": [
              "<Figure size 360x360 with 1 Axes>"
            ]
          },
          "metadata": {
            "tags": [],
            "needs_background": "light"
          }
        }
      ]
    }
  ]
}