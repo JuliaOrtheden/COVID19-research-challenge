{
  "nbformat": 4,
  "nbformat_minor": 0,
  "metadata": {
    "colab": {
      "name": "dhs_ridge_cv.ipynb",
      "provenance": [],
      "collapsed_sections": [],
      "authorship_tag": "ABX9TyPx93+b83X9RqI3dp7EDv2J",
      "include_colab_link": true
    },
    "kernelspec": {
      "name": "python3",
      "display_name": "Python 3"
    },
    "language_info": {
      "name": "python"
    }
  },
  "cells": [
    {
      "cell_type": "markdown",
      "metadata": {
        "id": "view-in-github",
        "colab_type": "text"
      },
      "source": [
        "<a href=\"https://colab.research.google.com/github/JuliaOrtheden/COVID19-research-challenge/blob/master/dhs_ridge_cv.ipynb\" target=\"_parent\"><img src=\"https://colab.research.google.com/assets/colab-badge.svg\" alt=\"Open In Colab\"/></a>"
      ]
    },
    {
      "cell_type": "code",
      "metadata": {
        "colab": {
          "base_uri": "https://localhost:8080/"
        },
        "id": "hcHwV5mfND8p",
        "outputId": "2869c432-e32d-44c9-ecbb-6e5c197d1611"
      },
      "source": [
        "!pip install git+https://github.com/qubvel/classification_models.git"
      ],
      "execution_count": null,
      "outputs": [
        {
          "output_type": "stream",
          "text": [
            "Collecting git+https://github.com/qubvel/classification_models.git\n",
            "  Cloning https://github.com/qubvel/classification_models.git to /tmp/pip-req-build-cmicgthn\n",
            "  Running command git clone -q https://github.com/qubvel/classification_models.git /tmp/pip-req-build-cmicgthn\n",
            "  Running command git submodule update --init --recursive -q\n",
            "Collecting keras_applications<=1.0.8,>=1.0.7\n",
            "  Downloading Keras_Applications-1.0.8-py3-none-any.whl (50 kB)\n",
            "\u001b[K     |████████████████████████████████| 50 kB 3.0 MB/s \n",
            "\u001b[?25hRequirement already satisfied: numpy>=1.9.1 in /usr/local/lib/python3.7/dist-packages (from keras_applications<=1.0.8,>=1.0.7->image-classifiers==1.0.0) (1.19.5)\n",
            "Requirement already satisfied: h5py in /usr/local/lib/python3.7/dist-packages (from keras_applications<=1.0.8,>=1.0.7->image-classifiers==1.0.0) (3.1.0)\n",
            "Requirement already satisfied: cached-property in /usr/local/lib/python3.7/dist-packages (from h5py->keras_applications<=1.0.8,>=1.0.7->image-classifiers==1.0.0) (1.5.2)\n",
            "Building wheels for collected packages: image-classifiers\n",
            "  Building wheel for image-classifiers (setup.py) ... \u001b[?25l\u001b[?25hdone\n",
            "  Created wheel for image-classifiers: filename=image_classifiers-1.0.0-py3-none-any.whl size=20045 sha256=888336eee38f5667cf97f118b68b4b6435523924e152abda8d415f3825d880f9\n",
            "  Stored in directory: /tmp/pip-ephem-wheel-cache-bhgaz10m/wheels/0b/96/56/27b17c903efc647c51e4f364bfc20aa67f8d3dccad63c4fb4e\n",
            "Successfully built image-classifiers\n",
            "Installing collected packages: keras-applications, image-classifiers\n",
            "Successfully installed image-classifiers-1.0.0 keras-applications-1.0.8\n"
          ],
          "name": "stdout"
        }
      ]
    },
    {
      "cell_type": "code",
      "metadata": {
        "id": "C24OO_iFB7R_"
      },
      "source": [
        "import numpy as np\n",
        "import pandas as pd\n",
        "import pickle\n",
        "import os\n",
        "\n",
        "import numpy as np\n",
        "import matplotlib.cm as cm\n",
        "import matplotlib.pyplot as plt\n",
        "import sklearn.linear_model\n",
        "\n",
        "from collections import defaultdict\n",
        "from glob import glob\n",
        "import re\n",
        "import sys\n",
        "import tensorflow as tf\n",
        "from classification_models.tfkeras import Classifiers"
      ],
      "execution_count": null,
      "outputs": []
    },
    {
      "cell_type": "code",
      "metadata": {
        "id": "k41DHiX0CARP"
      },
      "source": [
        "dhs_clusters = pd.read_csv('dhs_clusters.csv')"
      ],
      "execution_count": null,
      "outputs": []
    },
    {
      "cell_type": "code",
      "metadata": {
        "id": "DaurDt55CS8_"
      },
      "source": [
        "dhs_ooc_folds = pd.read_pickle('dhs_ooc_folds.pkl')"
      ],
      "execution_count": null,
      "outputs": []
    },
    {
      "cell_type": "code",
      "metadata": {
        "id": "K5AYXW61Cah8"
      },
      "source": [
        "angola_indices = dhs_clusters[dhs_clusters['country']=='angola'].index\n",
        "all_countries_indices = dhs_clusters[dhs_clusters['country']!='angola'].index"
      ],
      "execution_count": null,
      "outputs": []
    },
    {
      "cell_type": "code",
      "metadata": {
        "id": "fJ9CqQW5Hh7R"
      },
      "source": [
        "all_countries = dhs_clusters['country'].unique()"
      ],
      "execution_count": null,
      "outputs": []
    },
    {
      "cell_type": "code",
      "metadata": {
        "id": "TcXUjFYVrWmV"
      },
      "source": [
        "def get_country_indices(country):\n",
        "  return dhs_clusters[dhs_clusters['country']==country].index\n",
        "\n",
        "def get_all_country_indices():\n",
        "  return  dhs_clusters.index"
      ],
      "execution_count": null,
      "outputs": []
    },
    {
      "cell_type": "code",
      "metadata": {
        "colab": {
          "base_uri": "https://localhost:8080/"
        },
        "id": "npaP6cE0rd40",
        "outputId": "a6b6d7ea-cb9c-4ab9-98b6-38eb9ddb99bf"
      },
      "source": [
        "get_country_indices('angola')"
      ],
      "execution_count": null,
      "outputs": [
        {
          "output_type": "execute_result",
          "data": {
            "text/plain": [
              "Int64Index([  0,   1,   2,   3,   4,   5,   6,   7,   8,   9,\n",
              "            ...\n",
              "            959, 960, 961, 962, 963, 964, 965, 966, 967, 968],\n",
              "           dtype='int64', length=969)"
            ]
          },
          "metadata": {
            "tags": []
          },
          "execution_count": 22
        }
      ]
    },
    {
      "cell_type": "code",
      "metadata": {
        "id": "fLbbDRMaJCe-"
      },
      "source": [
        "def train_linear_logo(features, labels, group_labels, cv_groups, test_groups,\n",
        "                      weights=None, linear_model=sklearn.linear_model.Ridge,\n",
        "                      plot=True, group_names=None, return_weights=False,\n",
        "                      verbose=False):\n",
        "    '''Leave-one-group-out cross-validated training of a linear model.\n",
        "    Args\n",
        "    - features: np.array, shape [N, D]\n",
        "        each feature dim should be normalized to 0 mean, unit variance\n",
        "    - labels: np.array, shape [N]\n",
        "    - group_labels: np.array, shape [N], type np.int32\n",
        "    - cv_groups: list of int, labels of groups to use for LOGO-CV\n",
        "    - test_groups: list of int, labels of groups to test on\n",
        "    - weights: np.array, shape [N]\n",
        "    - linear_model: sklearn.linear_model\n",
        "    - plot: bool, whether to plot MSE as a function of alpha\n",
        "    - group_names: list of str, names of the groups, only used when plotting\n",
        "    - return_weights: bool, whether to return the final trained model weights\n",
        "    - verbose: bool\n",
        "    Returns\n",
        "    - test_preds: np.array, predictions on indices from test_groups\n",
        "    - coefs: np.array, shape [D] (only returned if return_weights=True)\n",
        "    - intercept: float (only returned if return_weights=True)\n",
        "    '''\n",
        "    cv_indices = np.isin(group_labels, cv_groups).nonzero()[0]\n",
        "    test_indices = np.isin(group_labels, test_groups).nonzero()[0]\n",
        "\n",
        "    X = cv_indices #features[cv_indices]\n",
        "    y = labels[cv_indices]\n",
        "    groups = group_labels[cv_indices]\n",
        "    w = None if weights is None else weights[cv_indices]\n",
        "\n",
        "    alphas = 2**np.arange(-5, 35, 3.0)\n",
        "    preds = np.zeros([len(alphas), len(cv_indices)], dtype=np.float64)\n",
        "    group_mses = np.zeros([len(alphas), len(cv_groups)], dtype=np.float64)\n",
        "    leftout_group_labels = np.zeros(len(cv_groups), dtype=np.int32)\n",
        "    logo = sklearn.model_selection.LeaveOneGroupOut()\n",
        "\n",
        "    for i, alpha in enumerate(alphas):\n",
        "        if verbose:\n",
        "            print(f'\\rAlpha: {alpha} ({i+1}/{len(alphas)})', end='')\n",
        "\n",
        "        # set random_state for deterministic data shuffling\n",
        "        model = linear_model(alpha=alpha, random_state=123)\n",
        "\n",
        "        for g, (train_indices, val_indices) in enumerate(logo.split(X, groups=groups)):\n",
        "            train_X, val_X = X[train_indices], X[val_indices]\n",
        "            train_y, val_y = y[train_indices], y[val_indices]\n",
        "            train_w = None if w is None else w[train_indices]\n",
        "            val_w = None if w is None else w[val_indices]\n",
        "            model.fit(X=train_X, y=train_y, sample_weight=train_w)\n",
        "            val_preds = model.predict(val_X)\n",
        "            preds[i, val_indices] = val_preds\n",
        "            group_mses[i, g] = np.average((val_preds - val_y) ** 2, weights=val_w)\n",
        "            leftout_group_labels[g] = groups[val_indices[0]]\n",
        "\n",
        "    if verbose:\n",
        "        print()\n",
        "    mses = np.average((preds - y) ** 2, axis=1, weights=w)  # shape [num_alphas]\n",
        "\n",
        "    if plot:\n",
        "        h = max(3, len(group_names) * 0.2)\n",
        "        fig, ax = plt.subplots(1, 1, figsize=[h*2, h], constrained_layout=True)\n",
        "        for g in range(len(cv_groups)):\n",
        "            group_name = group_names[leftout_group_labels[g]]\n",
        "            ax.scatter(x=alphas, y=group_mses[:, g], label=group_name,\n",
        "                       c=[cm.tab20.colors[g % 20]])\n",
        "        ax.plot(alphas, mses, 'g-', label='Overall val mse')\n",
        "        ax.legend(loc='center left', bbox_to_anchor=(1, 0.5), title='Left-out Group')\n",
        "        ax.set(xlabel='alpha', ylabel='mse')\n",
        "        ax.set_xscale('log')\n",
        "        ax.grid(True)\n",
        "        plt.show()\n",
        "\n",
        "    best_alpha = alphas[np.argmin(mses)]\n",
        "    best_model = linear_model(alpha=best_alpha)\n",
        "    best_model.fit(X=X, y=y, sample_weight=w)\n",
        "    test_X, test_y, = features[test_indices], labels[test_indices]\n",
        "    test_preds = best_model.predict(test_X)\n",
        "\n",
        "    best_val_mse = np.min(mses)\n",
        "    test_w = None if weights is None else weights[test_indices]\n",
        "    test_mse = np.average((test_preds - test_y) ** 2, weights=test_w)\n",
        "    print(f'best val mse: {best_val_mse:.3f}, best alpha: {best_alpha}, test mse: {test_mse:.3f}')\n",
        "\n",
        "    if not return_weights:\n",
        "        return test_preds\n",
        "    else:\n",
        "        coefs = best_model.coef_\n",
        "        intercept = best_model.intercept_\n",
        "        return test_preds, coefs, intercept"
      ],
      "execution_count": null,
      "outputs": []
    },
    {
      "cell_type": "code",
      "metadata": {
        "id": "q989fYs8JOtq"
      },
      "source": [
        "def run_ridgecv_keep():\n",
        "    '''\n",
        "    For every country C (the test country):\n",
        "      1. uses leave-one-country-out CV on all other countries\n",
        "         to tune ridge model alpha parameter\n",
        "      2. using best alpha, trains ridge model on all countries except C\n",
        "      3. runs trained ridge model on C\n",
        "    Saves predictions for each country on test.\n",
        "\n",
        "    Args\n",
        "    - model_name: str, format 'resnet_{bands}', e.g. 'resnet_ms'\n",
        "    - labels: np.array, shape [num_examples]\n",
        "    - locs: np.array, shape [num_examples, 2]\n",
        "    - country_labels: np.array, shape [num_examples]\n",
        "    - folds: dict, fold (str) => dict\n",
        "    - keep_frac: float, fraction of non-test-country data to use for training\n",
        "    - seed: int\n",
        "    - savedir: str\n",
        "    '''\n",
        "    num_examples = len(all_countries)\n",
        "    test_preds = np.zeros(num_examples, dtype=np.float32)\n",
        "    FOLDS = ['A', 'B', 'C', 'D', 'E']\n",
        "    all_countries_set = get_all_country_indices()\n",
        "\n",
        "    countries_to_indices = defaultdict(list)\n",
        "    for i, country in enumerate(all_countries):\n",
        "        countries_to_indices[country].append(i)\n",
        "\n",
        "\n",
        "    for f in FOLDS:\n",
        "        for test_country in dhs_ooc_folds[f]['test']:\n",
        "            print('test country:', test_country)\n",
        "\n",
        "            test_country_set = {test_country}\n",
        "            cv_countries_set = all_countries_set - test_country_set\n",
        "            test_indices = get_indices_for_countries(test_country_set)\n",
        "            test_preds[test_indices] = train_linear_logo(\n",
        "                features=features[keep_subset_indices],\n",
        "                labels=labels[keep_subset_indices],\n",
        "                group_labels=country_labels[keep_subset_indices],\n",
        "                cv_groups=countries_to_nums(cv_countries_set),\n",
        "                test_groups=countries_to_nums(test_country_set),\n",
        "                plot=False,\n",
        "                group_names=COUNTRIES)\n",
        "\n",
        "    # save preds on the test set\n",
        "    os.makedirs(savedir, exist_ok=True)\n",
        "    npz_path = os.path.join(savedir, 'test_preds_keep{k}_seed{s}.npz'.format(k=keep_frac, s=seed))\n",
        "    print('Saving preds to:', savedir)\n",
        "    np.savez_compressed(npz_path, test_preds=test_preds, labels=labels, locs=locs)\n",
        "    '''\n",
        "    for test_country in all_countries:\n",
        "        print('test country:', test_country)\n",
        "\n",
        "        test_country_set = {}\n",
        "        cv_countries_set = all_countries_indices\n",
        "        test_indices = angola_indices #get_indices_for_countries(test_country_set)\n",
        "        ResNet18, _  = Classifiers.get('resnet18')\n",
        "        img_net = ResNet18((224, 224, 3), weights='imagenet')\n",
        "        features = img_net.layers[0].get_weights()\n",
        "        test = train_linear_logo(\n",
        "                    features= features,\n",
        "                    labels=dhs_ooc_folds['A'],\n",
        "                    group_labels=all_countries,\n",
        "                    cv_groups=all_countries_indices,\n",
        "                    test_groups=angola_indices,\n",
        "                    plot=False,\n",
        "                    group_names=all_countries)\n",
        "        print(test)\n",
        "    '''"
      ],
      "execution_count": null,
      "outputs": []
    },
    {
      "cell_type": "code",
      "metadata": {
        "colab": {
          "base_uri": "https://localhost:8080/",
          "height": 324
        },
        "id": "dpFaeUglJ8lS",
        "outputId": "7c4996bd-20b4-4f4d-c042-05415601c41d"
      },
      "source": [
        "run_ridgecv_keep()"
      ],
      "execution_count": null,
      "outputs": [
        {
          "output_type": "error",
          "ename": "TypeError",
          "evalue": "ignored",
          "traceback": [
            "\u001b[0;31m---------------------------------------------------------------------------\u001b[0m",
            "\u001b[0;31mTypeError\u001b[0m                                 Traceback (most recent call last)",
            "\u001b[0;32m<ipython-input-13-ca7c35809cfa>\u001b[0m in \u001b[0;36m<module>\u001b[0;34m()\u001b[0m\n\u001b[0;32m----> 1\u001b[0;31m \u001b[0mrun_ridgecv_keep\u001b[0m\u001b[0;34m(\u001b[0m\u001b[0;34m)\u001b[0m\u001b[0;34m\u001b[0m\u001b[0;34m\u001b[0m\u001b[0m\n\u001b[0m",
            "\u001b[0;32m<ipython-input-12-7725dbc73616>\u001b[0m in \u001b[0;36mrun_ridgecv_keep\u001b[0;34m()\u001b[0m\n\u001b[1;32m     37\u001b[0m                 \u001b[0mtest_groups\u001b[0m\u001b[0;34m=\u001b[0m\u001b[0mangola_indices\u001b[0m\u001b[0;34m,\u001b[0m\u001b[0;34m\u001b[0m\u001b[0;34m\u001b[0m\u001b[0m\n\u001b[1;32m     38\u001b[0m                 \u001b[0mplot\u001b[0m\u001b[0;34m=\u001b[0m\u001b[0;32mFalse\u001b[0m\u001b[0;34m,\u001b[0m\u001b[0;34m\u001b[0m\u001b[0;34m\u001b[0m\u001b[0m\n\u001b[0;32m---> 39\u001b[0;31m                 group_names=all_countries)\n\u001b[0m\u001b[1;32m     40\u001b[0m     \u001b[0mprint\u001b[0m\u001b[0;34m(\u001b[0m\u001b[0mtest\u001b[0m\u001b[0;34m)\u001b[0m\u001b[0;34m\u001b[0m\u001b[0;34m\u001b[0m\u001b[0m\n",
            "\u001b[0;32m<ipython-input-7-dc8d686b2741>\u001b[0m in \u001b[0;36mtrain_linear_logo\u001b[0;34m(features, labels, group_labels, cv_groups, test_groups, weights, linear_model, plot, group_names, return_weights, verbose)\u001b[0m\n\u001b[1;32m     26\u001b[0m \u001b[0;34m\u001b[0m\u001b[0m\n\u001b[1;32m     27\u001b[0m     \u001b[0mX\u001b[0m \u001b[0;34m=\u001b[0m \u001b[0mcv_indices\u001b[0m \u001b[0;31m#features[cv_indices]\u001b[0m\u001b[0;34m\u001b[0m\u001b[0;34m\u001b[0m\u001b[0m\n\u001b[0;32m---> 28\u001b[0;31m     \u001b[0my\u001b[0m \u001b[0;34m=\u001b[0m \u001b[0mlabels\u001b[0m\u001b[0;34m[\u001b[0m\u001b[0mcv_indices\u001b[0m\u001b[0;34m]\u001b[0m\u001b[0;34m\u001b[0m\u001b[0;34m\u001b[0m\u001b[0m\n\u001b[0m\u001b[1;32m     29\u001b[0m     \u001b[0mgroups\u001b[0m \u001b[0;34m=\u001b[0m \u001b[0mgroup_labels\u001b[0m\u001b[0;34m[\u001b[0m\u001b[0mcv_indices\u001b[0m\u001b[0;34m]\u001b[0m\u001b[0;34m\u001b[0m\u001b[0;34m\u001b[0m\u001b[0m\n\u001b[1;32m     30\u001b[0m     \u001b[0mw\u001b[0m \u001b[0;34m=\u001b[0m \u001b[0;32mNone\u001b[0m \u001b[0;32mif\u001b[0m \u001b[0mweights\u001b[0m \u001b[0;32mis\u001b[0m \u001b[0;32mNone\u001b[0m \u001b[0;32melse\u001b[0m \u001b[0mweights\u001b[0m\u001b[0;34m[\u001b[0m\u001b[0mcv_indices\u001b[0m\u001b[0;34m]\u001b[0m\u001b[0;34m\u001b[0m\u001b[0;34m\u001b[0m\u001b[0m\n",
            "\u001b[0;31mTypeError\u001b[0m: unhashable type: 'numpy.ndarray'"
          ]
        }
      ]
    },
    {
      "cell_type": "code",
      "metadata": {
        "id": "zZUeZprrNth0"
      },
      "source": [
        "def load_npz(path, verbose=True, check=None):\n",
        "    '''Loads .npz file into a dict.\n",
        "    Args\n",
        "    - path: str, path to .npz file\n",
        "    - verbose: bool, whether to print out type and shape info\n",
        "    - check: dict, key (str) => np.array, values to check\n",
        "    Returns\n",
        "    - result: dict\n",
        "    '''\n",
        "    result = {}\n",
        "    with np.load(path) as npz:\n",
        "        for key, value in npz.items():\n",
        "            result[key] = value\n",
        "            if verbose:\n",
        "                print('{k}: dtype={d}, shape={s}'.format(k=key, d=value.dtype, s=value.shape))\n",
        "    if check is not None:\n",
        "        for key in check:\n",
        "            assert key in result\n",
        "            assert np.allclose(check[key], result[key])\n",
        "    return result"
      ],
      "execution_count": null,
      "outputs": []
    },
    {
      "cell_type": "code",
      "metadata": {
        "colab": {
          "base_uri": "https://localhost:8080/"
        },
        "id": "Q1rtdW_cpHq5",
        "outputId": "71049f8a-086e-4e7b-c064-2f1530512ea0"
      },
      "source": [
        "file_path = 'dhs_image_hists.npz'\n",
        "npz = load_npz(file_path)\n",
        "\n",
        "labels = npz['labels']\n",
        "locs = npz['locs']\n",
        "years = npz['years']\n",
        "\n",
        "num_examples = len(labels)"
      ],
      "execution_count": null,
      "outputs": [
        {
          "output_type": "stream",
          "text": [
            "image_hists: dtype=int64, shape=(19669, 8, 102)\n",
            "labels: dtype=float32, shape=(19669,)\n",
            "locs: dtype=float32, shape=(19669, 2)\n",
            "years: dtype=int32, shape=(19669,)\n",
            "nls_center: dtype=float32, shape=(19669,)\n",
            "nls_mean: dtype=float32, shape=(19669,)\n"
          ],
          "name": "stdout"
        }
      ]
    },
    {
      "cell_type": "code",
      "metadata": {
        "colab": {
          "base_uri": "https://localhost:8080/"
        },
        "id": "AiMJTIiNpIEe",
        "outputId": "2f5fdfc1-1442-4d23-bd0e-8992ce260203"
      },
      "source": [
        "npz"
      ],
      "execution_count": null,
      "outputs": [
        {
          "output_type": "execute_result",
          "data": {
            "text/plain": [
              "{'image_hists': array([[[ 0,  0,  0, ...,  0,  0,  0],\n",
              "         [ 0,  0,  0, ...,  0,  0,  0],\n",
              "         [ 0,  0,  0, ...,  0,  0,  0],\n",
              "         ...,\n",
              "         [ 0,  0,  0, ...,  0,  0,  0],\n",
              "         [ 0,  0,  0, ...,  0,  0,  0],\n",
              "         [ 0,  0,  0, ...,  0,  0,  0]],\n",
              " \n",
              "        [[ 0,  0,  0, ...,  0,  0,  0],\n",
              "         [ 0,  0,  0, ...,  0,  0,  0],\n",
              "         [ 0,  0,  0, ...,  0,  0,  0],\n",
              "         ...,\n",
              "         [ 0,  0,  0, ...,  0,  0,  0],\n",
              "         [ 0,  0,  0, ...,  0,  0,  0],\n",
              "         [ 0,  0,  0, ...,  0,  0,  0]],\n",
              " \n",
              "        [[ 0,  0,  0, ...,  0,  0,  0],\n",
              "         [ 0,  0,  0, ...,  0,  0,  0],\n",
              "         [ 0,  0,  0, ...,  0,  0,  0],\n",
              "         ...,\n",
              "         [ 0,  0,  0, ...,  0,  0,  0],\n",
              "         [ 0,  0,  0, ...,  0,  0,  0],\n",
              "         [ 0,  0,  0, ...,  0,  0,  0]],\n",
              " \n",
              "        ...,\n",
              " \n",
              "        [[ 0,  0,  0, ...,  2,  1, 27],\n",
              "         [ 0,  0,  0, ...,  0,  5, 27],\n",
              "         [ 0,  0,  0, ...,  0,  0, 10],\n",
              "         ...,\n",
              "         [ 0,  0,  0, ...,  0,  0,  0],\n",
              "         [ 0,  0,  0, ...,  0,  0,  0],\n",
              "         [ 0,  0,  0, ...,  0,  0,  0]],\n",
              " \n",
              "        [[ 0,  0,  0, ...,  0,  1,  1],\n",
              "         [ 0,  0,  0, ...,  3,  2, 12],\n",
              "         [ 0,  0,  0, ...,  0,  0,  0],\n",
              "         ...,\n",
              "         [ 0,  0,  0, ...,  0,  0,  0],\n",
              "         [ 0,  0,  0, ...,  0,  0,  0],\n",
              "         [ 0,  0,  0, ...,  0,  0,  0]],\n",
              " \n",
              "        [[ 0,  0,  0, ...,  0,  1,  3],\n",
              "         [ 0,  0,  0, ...,  2,  0, 13],\n",
              "         [ 0,  0,  0, ...,  0,  0,  0],\n",
              "         ...,\n",
              "         [ 0,  0,  0, ...,  0,  0,  0],\n",
              "         [ 0,  0,  0, ...,  0,  0,  0],\n",
              "         [ 0,  0,  0, ...,  0,  0,  0]]]),\n",
              " 'labels': array([-1.0193609, -1.0900525, -1.143002 , ...,  1.5066925,  1.8829206,\n",
              "         1.8800993], dtype=float32),\n",
              " 'locs': array([[-11.915085,  22.876839],\n",
              "        [-11.886975,  22.924997],\n",
              "        [ -9.498591,  17.830034],\n",
              "        ...,\n",
              "        [-18.021593,  31.08493 ],\n",
              "        [-17.989489,  31.033354],\n",
              "        [-17.99835 ,  31.042618]], dtype=float32),\n",
              " 'nls_center': array([ 0.01618861, -0.17386247, -0.17386247, ...,  2.194796  ,\n",
              "         1.8905661 ,  1.4569585 ], dtype=float32),\n",
              " 'nls_mean': array([-0.08663332, -0.09768403, -0.1415888 , ...,  1.1839046 ,\n",
              "         0.51583356,  0.8440671 ], dtype=float32),\n",
              " 'years': array([2011, 2011, 2011, ..., 2015, 2015, 2015], dtype=int32)}"
            ]
          },
          "metadata": {
            "tags": []
          },
          "execution_count": 17
        }
      ]
    },
    {
      "cell_type": "code",
      "metadata": {
        "id": "0oaQu55TpLBY"
      },
      "source": [
        ""
      ],
      "execution_count": null,
      "outputs": []
    }
  ]
}